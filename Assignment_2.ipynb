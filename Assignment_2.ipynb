{
 "cells": [
  {
   "cell_type": "code",
   "execution_count": null,
   "id": "e5f145e2-6b88-4dc8-a72f-e12cd9633b68",
   "metadata": {},
   "outputs": [],
   "source": [
    "1.What are the two values of the Boolean data type? How do you write them?\n"
   ]
  },
  {
   "cell_type": "code",
   "execution_count": null,
   "id": "d48d59f3-5edc-4518-b15b-3afe5a416e24",
   "metadata": {},
   "outputs": [],
   "source": [
    "The Boolean data type in Python represents has two possible values: True and False. \n",
    "\n",
    "is_true = True\n",
    "is_false = False"
   ]
  },
  {
   "cell_type": "code",
   "execution_count": null,
   "id": "60069fd1-ab53-462b-8697-250425ac151c",
   "metadata": {},
   "outputs": [],
   "source": [
    "2. What are the three different types of Boolean operators?"
   ]
  },
  {
   "cell_type": "code",
   "execution_count": null,
   "id": "9a5f2e27-0a26-44bb-93a4-78d7c0755bdc",
   "metadata": {},
   "outputs": [],
   "source": [
    "The three different types of Boolean operators in Python are:\n",
    "    AND\n",
    "    OR\n",
    "    NOT"
   ]
  },
  {
   "cell_type": "code",
   "execution_count": null,
   "id": "60f22368-d433-4e0c-ae21-971ed6749e3b",
   "metadata": {},
   "outputs": [],
   "source": [
    "3. Make a list of each Boolean operator&#39;s truth tables (i.e. every possible combination of Boolean\n",
    "values for the operator and what it evaluate )."
   ]
  },
  {
   "cell_type": "code",
   "execution_count": null,
   "id": "1ee708dd-a017-44d7-bfde-aa3ab5ec47d2",
   "metadata": {},
   "outputs": [],
   "source": [
    "Certainly! Here are the truth tables for each Boolean operator in Python:\n",
    "\n",
    "1. Logical AND (`and`):\n",
    "\n",
    "| Operand 1 | Operand 2 | Result |\n",
    "|-----------|-----------|--------|\n",
    "| `True`    | `True`    | `True` |\n",
    "\n",
    "The `and` operator returns `True` only if both operands are `True`.\n",
    "\n",
    "2. Logical OR (`or`):\n",
    "\n",
    "| Operand 1 | Operand 2 | Result |\n",
    "|-----------|-----------|--------|\n",
    "| `True`    | `True`    | `True` |\n",
    "| `True`    | `False`   | `True` |\n",
    "| `False`   | `True`    | `True` |\n",
    "\n",
    "The `or` operator returns `True` if at least one of the operands is `True`.\n",
    "\n",
    "3. Logical NOT (`not`):\n",
    "\n",
    "| Operand | Result |\n",
    "|---------|--------|\n",
    "| `False` | `True` |\n",
    "\n",
    "The `not` operator negates if the operand is `False`, it returns `True`.\n",
    "\n",
    "These truth tables illustrate the evaluation of the Boolean operators in Python for all possible combinations of Boolean values."
   ]
  },
  {
   "cell_type": "code",
   "execution_count": null,
   "id": "86eb8a3f-7a78-4a12-ac9e-726b2562e932",
   "metadata": {},
   "outputs": [],
   "source": [
    "4. What are the values of the following expressions?\n",
    "(5 > 4) and (3 == 5)\n",
    "not (5 > 4)\n",
    "(5 > 4) or (3 == 5)\n",
    "not ((5 > 4) or (3 == 5))\n",
    "(True and True) and (True == False)\n",
    "(not False) or (not True)\n"
   ]
  },
  {
   "cell_type": "code",
   "execution_count": null,
   "id": "48bdba2f-a38c-4518-9b7f-8bca75209a74",
   "metadata": {},
   "outputs": [],
   "source": [
    "(5 > 4) and (3 == 5)\n",
    "Value: False\n",
    "\n",
    "not (5 > 4) \n",
    "Value: False\n",
    "\n",
    "(5 > 4) or (3 == 5)\n",
    "Value: True\n",
    "\n",
    "not ((5 > 4) or (3 == 5))\n",
    "Value: False\n",
    "\n",
    "(True and True) and (True == False)\n",
    "Value: False\n",
    "\n",
    "(not False) or (not True)\n",
    "Value; True"
   ]
  },
  {
   "cell_type": "code",
   "execution_count": null,
   "id": "768c1e01-435c-4ac3-a4a3-dc19f61fe8f5",
   "metadata": {},
   "outputs": [],
   "source": [
    "5. What are the six comparison operators?"
   ]
  },
  {
   "cell_type": "code",
   "execution_count": null,
   "id": "88a66ed7-7ef2-4a09-85c7-4c48cf110b20",
   "metadata": {},
   "outputs": [],
   "source": [
    "The six comparison operators in Python are:\n",
    "\n",
    "1. Equal to (`==`)\n",
    "\n",
    "2. Not equal to (`!=`)\n",
    "3. Greater than (`>`)\n",
    "\n",
    "4. Less than (`<`)\n",
    "\n",
    "5. Greater than or equal to (`>=`)\n",
    "\n",
    "6. Less than or equal to (`<=`)\n",
    "\n"
   ]
  },
  {
   "cell_type": "code",
   "execution_count": null,
   "id": "caab8ee8-d149-4360-8ada-67cb3b7badc9",
   "metadata": {},
   "outputs": [],
   "source": [
    "6. How do you tell the difference between the equal to and assignment operators?Describe a\n",
    "condition and when you would use one.\n"
   ]
  },
  {
   "cell_type": "code",
   "execution_count": null,
   "id": "b3c701fd-6a09-4680-9562-a112dcb98893",
   "metadata": {},
   "outputs": [],
   "source": [
    "In Python, the equal to operator (==) and the assignment operator (=) serve different purposes and have distinct functionalities:\n",
    "    Equal to operator (==):\n",
    "The equal to operator is a comparison operator used to check if two values are equal. It compares the values on both sides of the operator and returns True if they are equal, and False otherwise.\n",
    "Assignment operator (=):\n",
    "The assignment operator is used to assign a value to a variable. It assigns the value on the right-hand side of the operator to the variable on the left-hand \n",
    "\n",
    "The condition for using the equal to operator is to compare values and check for equality in conditions, such as in if statements or while loops. \n",
    "On the other hand, the assignment operator is used to assign values to variables, allowing you to store and manipulate data within your program."
   ]
  },
  {
   "cell_type": "code",
   "execution_count": null,
   "id": "3ea7e35c-5ec1-4910-84e0-6ab9ba2eed27",
   "metadata": {},
   "outputs": [],
   "source": [
    "7. Identify the three blocks in this code:\n",
    "spam = 0      \n",
    "if spam == 10:\n",
    "    print('eggs')\n",
    "if spam > 5:\n",
    "    print('bacon')\n",
    "else:\n",
    "    print('ham')\n",
    "print('spam')\n",
    "print('spam')\n"
   ]
  },
  {
   "cell_type": "code",
   "execution_count": null,
   "id": "7331379d-dc27-4cc0-a5c0-b14fdab1b9f5",
   "metadata": {},
   "outputs": [],
   "source": [
    "Block1: This block is conditionally executed only if the value of spam is equal to 10. It prints the string 'eggs' if the condition is true.\n",
    "Block2: This block is conditionally executed only if the value of spam is greater than 5. It prints the string 'bacon' if the condition is true.\n",
    "Block3: This block is executed when none of the previous conditions (spam == 10 and spam > 5) are true. It prints the string 'ham'."
   ]
  },
  {
   "cell_type": "code",
   "execution_count": null,
   "id": "76ac8f86-bec2-4022-a4d4-59e604c833a4",
   "metadata": {},
   "outputs": [],
   "source": [
    "8. Write code that prints Hello if 1 is stored in spam, prints Howdy if 2 is stored in spam, and prints\n",
    "Greetings! if anything else is stored in spam."
   ]
  },
  {
   "cell_type": "code",
   "execution_count": 4,
   "id": "f6537b0a-37c4-4f8a-bce4-0e5cd8ac75fb",
   "metadata": {},
   "outputs": [
    {
     "name": "stdin",
     "output_type": "stream",
     "text": [
      "Enter the value in the spam 1\n"
     ]
    },
    {
     "name": "stdout",
     "output_type": "stream",
     "text": [
      "Hello\n"
     ]
    }
   ],
   "source": [
    "spam = int( input(\"Enter the value in the spam\"))\n",
    "\n",
    "if spam == 1:\n",
    "    print('Hello')\n",
    "elif spam == 2:\n",
    "    print('Howdy')\n",
    "else:\n",
    "    print('Greetings!')\n"
   ]
  },
  {
   "cell_type": "code",
   "execution_count": null,
   "id": "33f27efa-5469-4e45-9b04-08ebbb172f42",
   "metadata": {},
   "outputs": [],
   "source": [
    "9.If your programme is stuck in an endless loop, what keys you’ll press?"
   ]
  },
  {
   "cell_type": "code",
   "execution_count": null,
   "id": "2cd88a4e-6e32-4724-b0b6-df503073ddb2",
   "metadata": {},
   "outputs": [],
   "source": [
    "In jupyter we will press the \"interrupt the kernel\"\n",
    "In IDE we will press (CTRL + C)\n"
   ]
  },
  {
   "cell_type": "code",
   "execution_count": null,
   "id": "e73171f3-d6d4-47ed-ba0a-3aecbdb0c7b9",
   "metadata": {},
   "outputs": [],
   "source": [
    "10. How can you tell the difference between break and continue?"
   ]
  },
  {
   "cell_type": "code",
   "execution_count": null,
   "id": "f0c9311f-4a6b-415e-adb0-90575c2b1ed1",
   "metadata": {},
   "outputs": [],
   "source": [
    "break is used to terminate the loop entirely, while continue is used to skip the current iteration and move to the next iteration. break is often used when you want to exit the loop prematurely, while continue is used when you want to skip specific iterations based on certain conditions.\n",
    "\n",
    "Whenever there is End of the loop after the condition is meet it is break\n",
    "Whenever there is skip of the loop after the condition is meet it is continue"
   ]
  },
  {
   "cell_type": "code",
   "execution_count": null,
   "id": "93433aeb-aaca-4838-8cd0-025e36c7dfba",
   "metadata": {},
   "outputs": [],
   "source": [
    "11. In a for loop, what is the difference between range(10), range(0, 10), and range(0, 10, 1)?"
   ]
  },
  {
   "cell_type": "code",
   "execution_count": null,
   "id": "ab347eba-246e-4f9b-ac28-ad65b0156500",
   "metadata": {},
   "outputs": [],
   "source": [
    "range(10)       = It only sets the end point and the default start point is 0\n",
    "range(0, 10)    = It sets the start and end point where 0 is start point and 10 is end point\n",
    "range(0, 10, 1) = It sets the start as 0, end as 10 and step as 1 which will help in skipping the 1 index\n"
   ]
  },
  {
   "cell_type": "code",
   "execution_count": null,
   "id": "58de024a-db00-45ed-9959-1bca874aac92",
   "metadata": {},
   "outputs": [],
   "source": [
    "12. Write a short program that prints the numbers 1 to 10 using a for loop. Then write an equivalent\n",
    "program that prints the numbers 1 to 10 using a while loop."
   ]
  },
  {
   "cell_type": "code",
   "execution_count": 7,
   "id": "611881c4-d843-4ee8-8940-c04db09d651c",
   "metadata": {},
   "outputs": [
    {
     "name": "stdout",
     "output_type": "stream",
     "text": [
      "1\n",
      "2\n",
      "3\n",
      "4\n",
      "5\n",
      "6\n",
      "7\n",
      "8\n",
      "9\n",
      "10\n"
     ]
    }
   ],
   "source": [
    "for i in range(1,11):\n",
    "    print(i)"
   ]
  },
  {
   "cell_type": "code",
   "execution_count": 29,
   "id": "9d3c1746-3d37-4a5c-8d80-7019983b3c69",
   "metadata": {},
   "outputs": [
    {
     "name": "stdout",
     "output_type": "stream",
     "text": [
      "1\n",
      "2\n",
      "3\n",
      "4\n",
      "5\n",
      "6\n",
      "7\n",
      "8\n",
      "9\n",
      "10\n"
     ]
    }
   ],
   "source": [
    "i=1\n",
    "while i<=10:\n",
    "    print(i)\n",
    "    i +=1\n",
    "    "
   ]
  },
  {
   "cell_type": "code",
   "execution_count": null,
   "id": "3b064d46-b138-4236-9d84-b0948efe0e5c",
   "metadata": {},
   "outputs": [],
   "source": [
    "13. If you had a function named bacon() inside a module named spam, how would you call it after\n",
    "importing spam?"
   ]
  },
  {
   "cell_type": "code",
   "execution_count": null,
   "id": "7f5ffe8c-c38d-4f3a-8981-86eeeab66a29",
   "metadata": {},
   "outputs": [],
   "source": [
    "import spam\n",
    "\n",
    "spam.bacon()\n"
   ]
  }
 ],
 "metadata": {
  "kernelspec": {
   "display_name": "Python 3 (ipykernel)",
   "language": "python",
   "name": "python3"
  },
  "language_info": {
   "codemirror_mode": {
    "name": "ipython",
    "version": 3
   },
   "file_extension": ".py",
   "mimetype": "text/x-python",
   "name": "python",
   "nbconvert_exporter": "python",
   "pygments_lexer": "ipython3",
   "version": "3.10.6"
  }
 },
 "nbformat": 4,
 "nbformat_minor": 5
}
